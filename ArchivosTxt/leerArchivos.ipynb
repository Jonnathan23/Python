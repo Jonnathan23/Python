{
 "cells": [
  {
   "cell_type": "markdown",
   "metadata": {},
   "source": [
    "#### open()\n",
    "Abre el archivo sin embargo no lo lee, requiere como parametro la ruta donde se encuentra el archivo a leer, algo a tomar en cuenta es el uso de **encoding = \"UTF-8\"** para posteriormente leer correctamente los caracteres especiales\n",
    "#### read()\n",
    "Lee el contenido del archivo, una vez leido el archivo no se puede volver a leer por ende necesitamos cerrar el archivo para poder leer lo nuevamente\n"
   ]
  },
  {
   "cell_type": "code",
   "execution_count": 5,
   "metadata": {},
   "outputs": [
    {
     "name": "stdout",
     "output_type": "stream",
     "text": [
      "Si te está sirviendo el curso, activa la campanita\n",
      "Abogado??, que abogado??\n"
     ]
    }
   ],
   "source": [
    "archivoSinLeer = open(\"hoja.txt\", encoding= \"UTF-8\")\n",
    "archivo = archivoSinLeer.read()\n",
    "print(archivo)"
   ]
  },
  {
   "cell_type": "markdown",
   "metadata": {},
   "source": [
    "#### readlines()\n",
    "Esta función retorna un arreglo con todas las líneas\n",
    "\n",
    "#### readline()\n",
    "Retorna la primera línea del archivo, podemos especificar el número de caracteres que queramos que nos retorne, es decir, enviamos un número como parámetro.\n",
    "* archivo.readline() ---> Lee solo la línea\n",
    "* archivo.readline(2) --> Lee solo hasta la cantidad de caracteres especificada"
   ]
  },
  {
   "cell_type": "code",
   "execution_count": 13,
   "metadata": {},
   "outputs": [
    {
     "name": "stdout",
     "output_type": "stream",
     "text": [
      "['Si te está sirviendo el curso, activa la campanita\\n', 'Abogado??, que abogado??']\n",
      "--- ESPEFICIACIÓN DEL # DE CARACTERES ---\n",
      "Si te está s\n"
     ]
    }
   ],
   "source": [
    "archivoSinLeer = open(\"hoja.txt\", encoding=\"UTF-8\")\n",
    "lineas = archivoSinLeer.readlines()\n",
    "print(lineas)\n",
    "print(\"--- ESPEFICIACIÓN DEL # DE CARACTERES ---\") \n",
    "archivoSinLeer.close()\n",
    "archivoSinLeer = open(\"hoja.txt\", encoding=\"UTF-8\")\n",
    "linUno = archivoSinLeer.readline(12)\n",
    "print(linUno)"
   ]
  }
 ],
 "metadata": {
  "kernelspec": {
   "display_name": "Python 3",
   "language": "python",
   "name": "python3"
  },
  "language_info": {
   "codemirror_mode": {
    "name": "ipython",
    "version": 3
   },
   "file_extension": ".py",
   "mimetype": "text/x-python",
   "name": "python",
   "nbconvert_exporter": "python",
   "pygments_lexer": "ipython3",
   "version": "3.11.4"
  },
  "orig_nbformat": 4
 },
 "nbformat": 4,
 "nbformat_minor": 2
}
