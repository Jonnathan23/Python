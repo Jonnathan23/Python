{
 "cells": [
  {
   "cell_type": "code",
   "execution_count": 1,
   "metadata": {},
   "outputs": [
    {
     "name": "stdout",
     "output_type": "stream",
     "text": [
      "('Jose', 13)\n",
      "('Maria', 14)\n",
      "('Daniel', 13)\n",
      "El profesor es Maria y su ayudante es Daniel\n"
     ]
    }
   ],
   "source": [
    "        \n",
    "numPresentes = int(input(\"# de Estudiantes presentes\"))\n",
    "estudiantes = {}\n",
    "estudiantesOrdenanos = []\n",
    "menor = None\n",
    "for c in range(0,numPresentes):\n",
    "    nombre = input(\"Nombre: \")\n",
    "    edad = int (input (\"Edad: \"))\n",
    "    estudiantes[nombre] = edad\n",
    "      \n",
    "ayudante = min(estudiantes)\n",
    "profesor = max(estudiantes)\n",
    "for est in estudiantes.items():\n",
    "    print(est)\n",
    " \n",
    "print(f'El profesor es {profesor} y su ayudante es {ayudante}')\n"
   ]
  }
 ],
 "metadata": {
  "kernelspec": {
   "display_name": "Python 3",
   "language": "python",
   "name": "python3"
  },
  "language_info": {
   "codemirror_mode": {
    "name": "ipython",
    "version": 3
   },
   "file_extension": ".py",
   "mimetype": "text/x-python",
   "name": "python",
   "nbconvert_exporter": "python",
   "pygments_lexer": "ipython3",
   "version": "3.11.4"
  },
  "orig_nbformat": 4
 },
 "nbformat": 4,
 "nbformat_minor": 2
}
