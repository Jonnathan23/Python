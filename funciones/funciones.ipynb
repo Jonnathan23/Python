{
 "cells": [
  {
   "attachments": {},
   "cell_type": "markdown",
   "metadata": {},
   "source": [
    "## <spam style=\"color:wite\">FUNCIONES</spam>"
   ]
  },
  {
   "attachments": {},
   "cell_type": "markdown",
   "metadata": {},
   "source": [
    "Reciben un parametro, y nos devuelven un dato\n",
    "Funciones básicas que existen en pyhton\n",
    "    - max(): devuelve el número máximo de un vector\n",
    "    - min(): devuelve el número menor de un vector\n",
    "    - round(): redondea un número decimal hacia abajo, recibe 2 parametros: el número que va a redondear y el número de decimales\n",
    "    - sum(): suma todos los númros de un vector\n",
    "    "
   ]
  },
  {
   "cell_type": "code",
   "execution_count": 3,
   "metadata": {},
   "outputs": [
    {
     "name": "stdout",
     "output_type": "stream",
     "text": [
      " - Max:\n",
      "64\n",
      " - Min:\n",
      "4\n",
      " - Round:\n",
      "32.765\n",
      " - Sum:\n",
      "131\n"
     ]
    }
   ],
   "source": [
    "numeros = [4,8,23,64,32]\n",
    "#Funcion max\n",
    "print(\" - Max:\")\n",
    "print(max(numeros))\n",
    "#Funcion min\n",
    "print(\" - Min:\")\n",
    "print(min(numeros))\n",
    "#Funcion round\n",
    "print(\" - Round:\")\n",
    "print(round(32.764632,3))\n",
    "print(\" - Sum:\")\n",
    "print(sum(numeros))\n"
   ]
  },
  {
   "attachments": {},
   "cell_type": "markdown",
   "metadata": {},
   "source": [
    "Para la creación de funciones propoa sigue la siguiente estructura:\n",
    "    def nombreFuncion(parametros):\n",
    "Existen diferentes tipos de funciones:\n",
    "    - Con parametros\n",
    "    - Sin parametros\n",
    "    - Parametros indefinidos --> se coloca 1ro la variable q va a recibir el 1er dato seguido de la 2da variable que obtendrá el 2do dato\n",
    "    - Parametros definidos por defecto, no tiene la necesidad de recibir todos los parametos ya que los llenara por defecto, en caso de recibir el parametro que se haya colocado por defecto este se sobreescribirá\n",
    "Tienen características\n",
    "    - Sin retorno de valores\n",
    "    - Con retorno de valores\n",
    "    - Con retorno de multiples valores\n",
    "    "
   ]
  },
  {
   "cell_type": "code",
   "execution_count": 22,
   "metadata": {},
   "outputs": [
    {
     "name": "stdout",
     "output_type": "stream",
     "text": [
      "13\n"
     ]
    }
   ],
   "source": [
    "#Creacion de funciones\n",
    "#Parametros\n",
    "def sumatoria(num1,num2):\n",
    "    return num1 + num2\n",
    "a = 8\n",
    "b = 5\n",
    "# Ejecucion de la funcion\n",
    "print(sumatoria(a,b))\n",
    "\n",
    "\n"
   ]
  },
  {
   "cell_type": "code",
   "execution_count": 27,
   "metadata": {},
   "outputs": [
    {
     "name": "stdout",
     "output_type": "stream",
     "text": [
      "Hola mundo\n"
     ]
    }
   ],
   "source": [
    "#Sin parametros\n",
    "def saludar():\n",
    "    print(\"Hola mundo\")\n",
    "    \n",
    "saludar()\n"
   ]
  },
  {
   "cell_type": "code",
   "execution_count": 34,
   "metadata": {},
   "outputs": [
    {
     "name": "stdout",
     "output_type": "stream",
     "text": [
      "total: 1.6, residuo 3\n"
     ]
    }
   ],
   "source": [
    "#Retorno de multiples valores\n",
    "def division(num1,num2):\n",
    "    respuesta = round(num1/num2,2)\n",
    "    residuio = num1%num2\n",
    "    return respuesta,residuio\n",
    "\n",
    "total,residuo = division(a,b)\n",
    "print(f'total: {total}, residuo: {residuo}')"
   ]
  },
  {
   "cell_type": "code",
   "execution_count": 37,
   "metadata": {},
   "outputs": [
    {
     "name": "stdout",
     "output_type": "stream",
     "text": [
      "Suma de: 18\n"
     ]
    }
   ],
   "source": [
    "#Parametros indefinidos\n",
    "def sumatoriaInd(*numeros):\n",
    "    return sum(numeros)\n",
    "\n",
    "print(f'Suma de: {sumatoriaInd(3,6,3,1,5)}')"
   ]
  },
  {
   "cell_type": "code",
   "execution_count": 41,
   "metadata": {},
   "outputs": [
    {
     "name": "stdout",
     "output_type": "stream",
     "text": [
      "Cliente A: El cliente Fernando Saquicela está afiliado: Si\n",
      "Cliente B: El cliente Alex Hernandez está afiliado: No\n"
     ]
    }
   ],
   "source": [
    "#Parametros por defecto\n",
    "def datosCliente(nombre, apellido, afiliado = \"no\"):\n",
    "    return f'El cliente {nombre.capitalize()} {apellido.capitalize()} está afiliado: {afiliado.capitalize()}'\n",
    "\n",
    "clienteA = datosCliente(\"Fernando\",\"Saquicela\",\"si\")\n",
    "clienteB = datosCliente(\"Alex\",\"Hernandez\")\n",
    "print(f'Cliente A: {clienteA}')\n",
    "print(f'Cliente B: {clienteB}')"
   ]
  },
  {
   "attachments": {},
   "cell_type": "markdown",
   "metadata": {},
   "source": [
    "## <spam style=\"color:wite\">FUNCIONES LAMBDA </spam>"
   ]
  },
  {
   "attachments": {},
   "cell_type": "markdown",
   "metadata": {},
   "source": [
    "Son similares a las funciones flecha de JavaScript\n",
    "Lambda crea funciones anonimas en variables\n",
    "Es muy utilizado para resolver algo sencillo y rápido\n",
    "\n",
    "Por ejemplo: cuando se usa una funcion definida vs lambda\n"
   ]
  },
  {
   "cell_type": "code",
   "execution_count": 61,
   "metadata": {},
   "outputs": [
    {
     "name": "stdout",
     "output_type": "stream",
     "text": [
      " - Numeros pares\n",
      "[2, 4, 6, 8]\n",
      " - Nombres:\n",
      "Pedrito\n"
     ]
    }
   ],
   "source": [
    "#Creando una función lambda\n",
    "print(\" - Numeros pares\")\n",
    "numeros = [1,2,3,4,5,6,7,8]\n",
    "numeros_Pares = filter(lambda num: (num% 2) == 0,numeros)\n",
    "print(list(numeros_Pares))\n",
    "\n",
    "#Otro lambda\n",
    "print(\" - Nombres:\")\n",
    "nombresCorrectos = lambda palabra: palabra.capitalize()\n",
    "print(nombresCorrectos(\"PeDRIto\"))"
   ]
  },
  {
   "cell_type": "code",
   "execution_count": null,
   "metadata": {},
   "outputs": [
    {
     "name": "stdout",
     "output_type": "stream",
     "text": [
      "<filter object at 0x00000183AE0EB370>\n",
      "[2, 4, 6, 8]\n"
     ]
    }
   ],
   "source": [
    "#Filter es similar a un bulce, sin embargo es un objeto\n",
    "numeros = [1,2,3,4,5,6,7,8]\n",
    "def numPares(num):\n",
    "    if (num%2 ==0):\n",
    "        return num\n",
    "    \n",
    "numPares = filter(numPares,numeros)\n",
    "print(numPares) #Imprime el objeto\n",
    "print(list(numPares)) #De esta forma se convierte en una lista"
   ]
  }
 ],
 "metadata": {
  "kernelspec": {
   "display_name": "Python 3",
   "language": "python",
   "name": "python3"
  },
  "language_info": {
   "codemirror_mode": {
    "name": "ipython",
    "version": 3
   },
   "file_extension": ".py",
   "mimetype": "text/x-python",
   "name": "python",
   "nbconvert_exporter": "python",
   "pygments_lexer": "ipython3",
   "version": "3.11.4"
  },
  "orig_nbformat": 4
 },
 "nbformat": 4,
 "nbformat_minor": 2
}
