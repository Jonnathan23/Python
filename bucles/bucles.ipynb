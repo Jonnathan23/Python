{
 "cells": [
  {
   "attachments": {},
   "cell_type": "markdown",
   "metadata": {},
   "source": [
    "Bucle in, requiere una variable (key) que va a tomar temporalmente el valor del dato del vector"
   ]
  },
  {
   "cell_type": "code",
   "execution_count": 1,
   "metadata": {},
   "outputs": [
    {
     "name": "stdout",
     "output_type": "stream",
     "text": [
      "perro\n",
      "vaca\n",
      "cocodrilo\n",
      " - El bucle termino\n"
     ]
    }
   ],
   "source": [
    "seresVivos = ['perro','vaca','cocodrilo']\n",
    "#Recorre una lista\n",
    "for animal in seresVivos:\n",
    "    print(animal)\n",
    "else:\n",
    "    print(\" - El bucle termino\")\n",
    "    "
   ]
  },
  {
   "attachments": {},
   "cell_type": "markdown",
   "metadata": {},
   "source": [
    "En caso de tener arreglos asociados, se necesita colocar el metodo item() para acceder a valor del dato, caso contrario solo nos \n",
    "devolverá el nombre asociado con el dato del vector"
   ]
  },
  {
   "cell_type": "code",
   "execution_count": 2,
   "metadata": {},
   "outputs": [
    {
     "name": "stdout",
     "output_type": "stream",
     "text": [
      "Nombre asociado con el dato\n",
      "('nombre', 'Fernando')\n",
      "('edad', 12)\n",
      " ---------\n",
      "Simplemente el nombre: \n",
      "nombre\n",
      "edad\n"
     ]
    }
   ],
   "source": [
    "datosCliente = {\n",
    "    \"nombre\" :\"Fernando\",\n",
    "    \"edad\" : 12\n",
    "}\n",
    "#Para Arreglos asociados\n",
    "print(\"Nombre asociado con el dato\")\n",
    "for key in datosCliente.items():\n",
    "    print(key)\n",
    "    \n",
    "print(\" ---------\")\n",
    "#Si no se ejecuta de la forma anterior solo nos va a entregar el nombre con el que se asoció el dato\n",
    "print(\"Simplemente el nombre: \")\n",
    "for key in datosCliente:\n",
    "    print(key)"
   ]
  },
  {
   "attachments": {},
   "cell_type": "markdown",
   "metadata": {},
   "source": [
    "En caso de queres ejecutar un bucle for, pero sin la necesidad de una lista, se puede utilizar el **range()** para dar limites al bucle"
   ]
  },
  {
   "cell_type": "code",
   "execution_count": 3,
   "metadata": {},
   "outputs": [
    {
     "name": "stdout",
     "output_type": "stream",
     "text": [
      "0\n",
      "1\n",
      "2\n",
      "3\n",
      "4\n"
     ]
    }
   ],
   "source": [
    "for c in range(0,5):\n",
    "    print(c)\n",
    "    "
   ]
  },
  {
   "attachments": {},
   "cell_type": "markdown",
   "metadata": {},
   "source": [
    "Al bucle se le puede implementar ciertas intrucciones que alteran el comportamiento de nuestro bucle como:\n",
    "* break : sale del bucle, si existe un \"else\" en el bucle lo ignora\n",
    "* continue : termina un ciclo del bucle"
   ]
  },
  {
   "cell_type": "code",
   "execution_count": 4,
   "metadata": {},
   "outputs": [
    {
     "name": "stdout",
     "output_type": "stream",
     "text": [
      " - Break:\n",
      "banana\n",
      "pera\n",
      "manzana\n",
      "\n",
      " - Continue:\n",
      "banana\n",
      "pera\n",
      "granada\n",
      "naranja\n"
     ]
    }
   ],
   "source": [
    "frutas = [\"banana\", \"pera\", \"manzana\",\"granada\",\"naranja\"]\n",
    "#Sale del bucle en manzana\n",
    "print(\" - Break:\")\n",
    "for fruta in frutas:\n",
    "    print(fruta)\n",
    "    if (fruta == \"manzana\"):\n",
    "        break\n",
    "else:\n",
    "    print(\"Terminó el bucle\")\n",
    "    \n",
    "#Salta un ciclo cuando en manzana\n",
    "print(\"\\n - Continue:\")\n",
    "for fruta in frutas:    \n",
    "    if (fruta == \"manzana\"):\n",
    "        continue\n",
    "    print(fruta)"
   ]
  },
  {
   "attachments": {},
   "cell_type": "markdown",
   "metadata": {},
   "source": [
    "Si se desea alterar los datos de un vector para almacenarlos en otro se puede poner un bucle al momento de inicializar un vector"
   ]
  },
  {
   "cell_type": "code",
   "execution_count": 5,
   "metadata": {},
   "outputs": [
    {
     "name": "stdout",
     "output_type": "stream",
     "text": [
      " - Numeros:\n",
      "[2, 6, 10, 18, 8]\n",
      " - Nombres:\n",
      "['Pedro', 'Juan', 'Felipe', 'Grabriel']\n"
     ]
    }
   ],
   "source": [
    "print(\" - Numeros:\")\n",
    "numeros = [1,3,5,9,4]\n",
    "numDuplicados = [x*2 for x in numeros]\n",
    "print(numDuplicados)\n",
    "\n",
    "print(\" - Nombres:\")\n",
    "nombres = [\"pedro\",\"Juan\",\"FELIPE\",\"GraBriel\"]\n",
    "nomCorrectos = [c.capitalize() for c in nombres]\n",
    "print(nomCorrectos)"
   ]
  },
  {
   "attachments": {},
   "cell_type": "markdown",
   "metadata": {},
   "source": [
    "##  <span style=\"color:WITE\">BUCLE WHILE</span>\n"
   ]
  },
  {
   "attachments": {},
   "cell_type": "markdown",
   "metadata": {},
   "source": [
    "Estructura condición, instrucciones"
   ]
  },
  {
   "cell_type": "code",
   "execution_count": 6,
   "metadata": {},
   "outputs": [
    {
     "name": "stdout",
     "output_type": "stream",
     "text": [
      "Aún no puedes salir\n",
      "Aún no puedes salir\n",
      "Aún no puedes salir\n",
      "Aún no puedes salir\n",
      "Aún no puedes salir\n",
      "Aún no puedes salir\n",
      "Aún no puedes salir\n",
      "Sal\n"
     ]
    }
   ],
   "source": [
    "salir = False\n",
    "tiempoSalida = 10\n",
    "tiempoActual = 3\n",
    "while not salir:\n",
    "    if(tiempoActual == tiempoSalida):\n",
    "        salir = True\n",
    "        print(\"Sal\")\n",
    "    else:\n",
    "        print(\"Aún no puedes salir\")\n",
    "        tiempoActual += 1\n",
    "    "
   ]
  }
 ],
 "metadata": {
  "kernelspec": {
   "display_name": "Python 3",
   "language": "python",
   "name": "python3"
  },
  "language_info": {
   "codemirror_mode": {
    "name": "ipython",
    "version": 3
   },
   "file_extension": ".py",
   "mimetype": "text/x-python",
   "name": "python",
   "nbconvert_exporter": "python",
   "pygments_lexer": "ipython3",
   "version": "3.11.4"
  },
  "orig_nbformat": 4
 },
 "nbformat": 4,
 "nbformat_minor": 2
}
