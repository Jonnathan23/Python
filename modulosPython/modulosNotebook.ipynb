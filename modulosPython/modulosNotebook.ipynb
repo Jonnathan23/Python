{
 "cells": [
  {
   "cell_type": "markdown",
   "metadata": {},
   "source": [
    "### Módulo\n",
    "Un módulo es otro archivo python, el cual podemos importar para hacer uso de sus funciones, para ello solo escribimos import seguido del nombre de nuestro módulo, sin embargo si nuestro módulo se encuentra dentro de otra carpeta accederemos a ella con un punto.\n",
    "<br>Para llamar a las funciones que se encuentren dentro de nuestros módulos utilizamos un punto **.**"
   ]
  },
  {
   "cell_type": "code",
   "execution_count": 7,
   "metadata": {},
   "outputs": [
    {
     "name": "stdout",
     "output_type": "stream",
     "text": [
      "Hola Pancracio bienvenido loquito\n",
      "El resultado es: 13\n"
     ]
    }
   ],
   "source": [
    "import modSaludar\n",
    "import otrasFunciones.sumatoria\n",
    "\n",
    "print(modSaludar.saludar(\"Pancracio\"))\n",
    "print(f'El resultado es: {otrasFunciones.sumatoria.sumatoria(3,6,2,2)}')"
   ]
  },
  {
   "cell_type": "markdown",
   "metadata": {},
   "source": [
    "Sin embargo existe una posibilidad de renombrar el modulo\n",
    "* import modSaludar **as saludar** --> renombramos al modulo como **saludar**\n",
    "* **from** otrasFunciones.sumatoria import sumatoria as sumar --> Forma más espeficia para evitar importaciones que no se vayan a utilizar mejorando el rendimiento del programa, ademas importa un modulo que se encuentre dentro de otra carpeta"
   ]
  },
  {
   "cell_type": "code",
   "execution_count": 6,
   "metadata": {},
   "outputs": [
    {
     "name": "stdout",
     "output_type": "stream",
     "text": [
      "Hola Fernando bienvenido loquito\n",
      "El resultado es: 13\n",
      "Hola Jaime te saludo desde una carpeta que está en el exterior\n"
     ]
    }
   ],
   "source": [
    "import modSaludar as saludar\n",
    "from otrasFunciones.sumatoria import sumatoria as sumar \n",
    "\n",
    "#Importar un modulo fuera de la carpeta que se encuentra el modulo principal\n",
    "import sys\n",
    "sys.path.append(\"C:\\\\Users\\\\jsaqu\\\\OneDrive\\\\Escritorio\\\\Archivos Respaldo\\\\Jonna Archivos\\\\Progrmacion python\")\n",
    "import FuncionAfuera\n",
    "#print(sys.path)\n",
    "print(saludar.saludar(\"Fernando\"))\n",
    "print(f'El resultado es: {sumar(3,6,2,2)}')\n",
    "print(FuncionAfuera.saludarAfuera(\"Jaime\"))"
   ]
  }
 ],
 "metadata": {
  "kernelspec": {
   "display_name": "Python 3",
   "language": "python",
   "name": "python3"
  },
  "language_info": {
   "codemirror_mode": {
    "name": "ipython",
    "version": 3
   },
   "file_extension": ".py",
   "mimetype": "text/x-python",
   "name": "python",
   "nbconvert_exporter": "python",
   "pygments_lexer": "ipython3",
   "version": "3.11.4"
  },
  "orig_nbformat": 4
 },
 "nbformat": 4,
 "nbformat_minor": 2
}
