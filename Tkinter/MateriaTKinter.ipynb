{
 "cells": [
  {
   "cell_type": "markdown",
   "metadata": {},
   "source": [
    "## Estructura de ventana con Tkinter\n",
    "* Raiz: ventana\n",
    "* Frame: se coloca despues de la ventana\n",
    "* Widgets: son los elementos que se encuentran dentro del frame, el frame tambien se lo puede llamar **widget**\n",
    "\n",
    "Primero se necesita importar la libreria **tkinter** \n",
    "\n",
    "Luego a la ventana le podemos asignar una variable **raiz** llamando a la función **Tk()** posteriormente utilizamos el método **.mainloop()** para que la ventana este en ejecución en tiempo indeterminado y por eso es recomendable el metodo esté al final del código"
   ]
  },
  {
   "cell_type": "code",
   "execution_count": 1,
   "metadata": {},
   "outputs": [],
   "source": [
    "from tkinter import *\n",
    "\n",
    "raiz = Tk()\n",
    "raiz.mainloop()"
   ]
  },
  {
   "cell_type": "markdown",
   "metadata": {},
   "source": [
    "### Propiedades de la ventana\n",
    "* **.title(\"\")** : sirve para colocar el título a la ventana"
   ]
  },
  {
   "cell_type": "code",
   "execution_count": null,
   "metadata": {},
   "outputs": [],
   "source": [
    "from tkinter import *\n",
    "\n",
    "raiz = Tk()\n",
    "raiz.title(\"Ventana Pepa\")\n",
    "raiz.resizable(0,0) #No puede se puede redimensionar\n",
    "\n",
    "\n",
    "raiz.mainloop()"
   ]
  },
  {
   "cell_type": "markdown",
   "metadata": {},
   "source": [
    "* **.resizable(,)** : sirve para que el usuario no pueda redimensionar la ventana\n",
    "\n",
    "     recibe como parametros true o false, dependiendo de que valor enviemos el usuario podrá redimensionar solo el alto, el ancho o ninguno **.resizable(ancho,alto)**"
   ]
  },
  {
   "cell_type": "code",
   "execution_count": null,
   "metadata": {},
   "outputs": [],
   "source": [
    "from tkinter import *\n",
    "\n",
    "raiz = Tk()\n",
    "raiz.resizable(0,0) # No puede se puede redimensionar\n",
    "raiz.resizable(1,0) # Solo se puede redimensionar en lo ancho de la ventana\n",
    "raiz.resizable(0,1) # Solo se puede redimensionar la altura de la ventana\n",
    "\n",
    "\n",
    "raiz.mainloop()"
   ]
  },
  {
   "cell_type": "markdown",
   "metadata": {},
   "source": [
    "* **.iconbitmap(\"\")** : sirve para colocar un icono a la ventana, recibe como parametro una ruta de una imagen en formato **.ico**"
   ]
  },
  {
   "cell_type": "code",
   "execution_count": null,
   "metadata": {},
   "outputs": [],
   "source": [
    "from tkinter import *\n",
    "\n",
    "raiz = Tk()\n",
    "raiz.iconbitmap(\"Graficos//pugIco.ico\")\n",
    "\n",
    "raiz.mainloop()"
   ]
  },
  {
   "cell_type": "markdown",
   "metadata": {},
   "source": [
    "* **.geometry(\"\")** : sirve para dimensionar el tamaño de la ventana, recibe como parametro el ancho y alto"
   ]
  },
  {
   "cell_type": "code",
   "execution_count": null,
   "metadata": {},
   "outputs": [],
   "source": [
    "from tkinter import *\n",
    "raiz = Tk()\n",
    "raiz.geometry(\"850x476\")\n",
    "\n",
    "raiz.mainloop()"
   ]
  },
  {
   "cell_type": "markdown",
   "metadata": {},
   "source": [
    "### Frame\n",
    "Para crear el frame se hace de forma similar a la ventana, el frame se le puede asignar a una variable, sin embargo necesitamos empaquetarlo, es decir, colocarlo en la ventana para ello usamos el metodo **pack()**\n",
    "\n",
    "Con el metodo **pack()** podemos alinear el frame\n",
    "* nuevoFrame.pack(side=\"right\") --> derecha\n",
    "* nuevoFrame.pack(side=\"left\")  --> izquierda\n",
    "* nuevoFrame.pack(side=\"bottom\") -> abajo\n",
    "* nuevoFrame.pack(side=\"top\")   --> arriba"
   ]
  },
  {
   "cell_type": "code",
   "execution_count": null,
   "metadata": {},
   "outputs": [],
   "source": [
    "from tkinter import *\n",
    "raiz = Tk()\n",
    "raiz.config(bg=\"blue\")\n",
    "\n",
    "nuevoFrame = Frame()\n",
    "nuevoFrame.pack()\n",
    "nuevoFrame.config(bg=\"red\")\n",
    "nuevoFrame.config(width=\"560\", height=\"380\")\n",
    "\n",
    "raiz.mainloop()"
   ]
  }
 ],
 "metadata": {
  "kernelspec": {
   "display_name": "Python 3",
   "language": "python",
   "name": "python3"
  },
  "language_info": {
   "codemirror_mode": {
    "name": "ipython",
    "version": 3
   },
   "file_extension": ".py",
   "mimetype": "text/x-python",
   "name": "python",
   "nbconvert_exporter": "python",
   "pygments_lexer": "ipython3",
   "version": "3.11.4"
  }
 },
 "nbformat": 4,
 "nbformat_minor": 2
}
